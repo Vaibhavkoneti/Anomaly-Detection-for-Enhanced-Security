{
 "cells": [
  {
   "cell_type": "code",
   "execution_count": 5,
   "metadata": {},
   "outputs": [],
   "source": [
    "import pandas as pd\n",
    "import numpy as np\n",
    "from sklearn.ensemble import IsolationForest\n",
    "from scipy import stats\n",
    "import seaborn as sns\n",
    "import matplotlib.pyplot as plt"
   ]
  },
  {
   "cell_type": "code",
   "execution_count": 7,
   "metadata": {},
   "outputs": [],
   "source": [
    "data = pd.read_csv('financial_anomaly_data.csv')"
   ]
  },
  {
   "cell_type": "code",
   "execution_count": 8,
   "metadata": {},
   "outputs": [],
   "source": [
    "data.dropna(subset=['Timestamp', 'TransactionID', 'AccountID', 'Amount', 'Merchant', 'TransactionType', 'Location'], inplace=True)"
   ]
  },
  {
   "cell_type": "code",
   "execution_count": 10,
   "metadata": {},
   "outputs": [
    {
     "name": "stdout",
     "output_type": "stream",
     "text": [
      "            Timestamp TransactionID AccountID    Amount   Merchant  \\\n",
      "0 2023-01-01 08:00:00       TXN1127      ACC4  95071.92  MerchantH   \n",
      "1 2023-01-01 08:01:00       TXN1639     ACC10  15607.89  MerchantH   \n",
      "2 2023-01-01 08:02:00        TXN872      ACC8  65092.34  MerchantE   \n",
      "3 2023-01-01 08:03:00       TXN1438      ACC6     87.87  MerchantE   \n",
      "4 2023-01-01 08:04:00       TXN1338      ACC6    716.56  MerchantI   \n",
      "\n",
      "  TransactionType     Location        Date  Hour  \n",
      "0        Purchase        Tokyo  2023-01-01     8  \n",
      "1        Purchase       London  2023-01-01     8  \n",
      "2      Withdrawal       London  2023-01-01     8  \n",
      "3        Purchase       London  2023-01-01     8  \n",
      "4        Purchase  Los Angeles  2023-01-01     8  \n"
     ]
    }
   ],
   "source": [
    "# Convert Timestamp to datetime\n",
    "data['Timestamp'] = pd.to_datetime(data['Timestamp'], format='%d-%m-%Y %H:%M')\n",
    "\n",
    "# Extract additional features from Timestamp\n",
    "data['Date'] = data['Timestamp'].dt.date\n",
    "data['Hour'] = data['Timestamp'].dt.hour\n",
    "\n",
    "# Check the cleaned data\n",
    "print(data.head())"
   ]
  },
  {
   "cell_type": "code",
   "execution_count": 11,
   "metadata": {},
   "outputs": [
    {
     "name": "stdout",
     "output_type": "stream",
     "text": [
      "count    216960.000000\n",
      "mean      50090.025108\n",
      "std       29097.905016\n",
      "min          10.510000\n",
      "25%       25061.242500\n",
      "50%       50183.980000\n",
      "75%       75080.460000\n",
      "max      978942.260000\n",
      "Name: Amount, dtype: float64\n"
     ]
    },
    {
     "data": {
      "image/png": "[encoded data removed]",
      "text/plain": [
       "<Figure size 1000x600 with 1 Axes>"
      ]
     },
     "metadata": {},
     "output_type": "display_data"
    }
   ],
   "source": [
    "# Summary statistics for Amount\n",
    "print(data['Amount'].describe())\n",
    "\n",
    "# Box plot for Amount\n",
    "plt.figure(figsize=(10, 6))\n",
    "sns.boxplot(x=data['Amount'])\n",
    "plt.title('Boxplot of Transaction Amounts')\n",
    "plt.show()\n"
   ]
  },
  {
   "cell_type": "code",
   "execution_count": 12,
   "metadata": {},
   "outputs": [
    {
     "name": "stdout",
     "output_type": "stream",
     "text": [
      "Flagged Anomalies based on Z-score:\n",
      "       TransactionID AccountID     Amount   Merchant TransactionType  \\\n",
      "2775         TXN1049     ACC14  978942.26  MerchantJ        Transfer   \n",
      "3448          TXN827     ACC12  712076.97  MerchantA      Withdrawal   \n",
      "3453         TXN1690      ACC8  489492.30  MerchantF        Purchase   \n",
      "4148          TXN625      ACC1  187344.37  MerchantD        Purchase   \n",
      "4194          TXN667      ACC3  272990.11  MerchantE        Transfer   \n",
      "45099        TXN1359     ACC11  151020.55  MerchantB        Transfer   \n",
      "45100         TXN190      ACC5  873004.79  MerchantI      Withdrawal   \n",
      "211753        TXN141      ACC4  223542.64  MerchantG      Withdrawal   \n",
      "211866        TXN543      ACC2  191561.95  MerchantJ        Purchase   \n",
      "211959       TXN1359      ACC8  616155.70  MerchantC        Purchase   \n",
      "213460       TXN1249      ACC5  689504.90  MerchantI        Purchase   \n",
      "\n",
      "             Location  \n",
      "2775         New York  \n",
      "3448            Tokyo  \n",
      "3453            Tokyo  \n",
      "4148    San Francisco  \n",
      "4194      Los Angeles  \n",
      "45099           Tokyo  \n",
      "45100     Los Angeles  \n",
      "211753  San Francisco  \n",
      "211866  San Francisco  \n",
      "211959       New York  \n",
      "213460  San Francisco  \n"
     ]
    }
   ],
   "source": [
    "# Calculate Z-score for Amount\n",
    "data['Amount_Zscore'] = np.abs(stats.zscore(data['Amount']))\n",
    "\n",
    "# Set threshold for anomaly detection (e.g., Z-score > 3)\n",
    "zscore_threshold = 3\n",
    "anomalies_zscore = data[data['Amount_Zscore'] > zscore_threshold]\n",
    "\n",
    "# Display flagged anomalies\n",
    "print(\"Flagged Anomalies based on Z-score:\")\n",
    "print(anomalies_zscore[['TransactionID', 'AccountID', 'Amount', 'Merchant', 'TransactionType', 'Location']])\n"
   ]
  },
  {
   "cell_type": "code",
   "execution_count": 13,
   "metadata": {},
   "outputs": [
    {
     "name": "stdout",
     "output_type": "stream",
     "text": [
      "Flagged Anomalies based on Isolation Forest:\n",
      "       TransactionID AccountID    Amount   Merchant TransactionType  \\\n",
      "3            TXN1438      ACC6     87.87  MerchantE        Purchase   \n",
      "4            TXN1338      ACC6    716.56  MerchantI        Purchase   \n",
      "7             TXN841      ACC7   1336.36  MerchantI      Withdrawal   \n",
      "16            TXN648      ACC8   1417.84  MerchantC        Purchase   \n",
      "142           TXN831     ACC13    269.48  MerchantD        Purchase   \n",
      "...              ...       ...       ...        ...             ...   \n",
      "216943       TXN1915      ACC1  15239.39  MerchantE        Purchase   \n",
      "216944        TXN652     ACC12   4150.21  MerchantF        Transfer   \n",
      "216945        TXN284     ACC14  93965.35  MerchantE      Withdrawal   \n",
      "216949       TXN1182     ACC10   9657.19  MerchantE        Purchase   \n",
      "216957       TXN1979     ACC15   8203.57  MerchantF        Purchase   \n",
      "\n",
      "             Location  \n",
      "3              London  \n",
      "4         Los Angeles  \n",
      "7       San Francisco  \n",
      "16        Los Angeles  \n",
      "142          New York  \n",
      "...               ...  \n",
      "216943       New York  \n",
      "216944  San Francisco  \n",
      "216945  San Francisco  \n",
      "216949    Los Angeles  \n",
      "216957         London  \n",
      "\n",
      "[10833 rows x 6 columns]\n"
     ]
    }
   ],
   "source": [
    "# Prepare data for Isolation Forest\n",
    "features = ['Amount', 'Hour']\n",
    "X = data[features]\n",
    "\n",
    "# Fit Isolation Forest model\n",
    "clf = IsolationForest(random_state=0, contamination=0.05)  # 5% expected anomalies\n",
    "clf.fit(X)\n",
    "\n",
    "# Predict outliers\n",
    "data['Anomaly_Score'] = clf.decision_function(X)\n",
    "data['Anomaly_Label'] = clf.predict(X)\n",
    "\n",
    "# Flag transactions flagged as anomalies by Isolation Forest\n",
    "anomalies_if = data[data['Anomaly_Label'] == -1]\n",
    "\n",
    "# Display flagged anomalies\n",
    "print(\"Flagged Anomalies based on Isolation Forest:\")\n",
    "print(anomalies_if[['TransactionID', 'AccountID', 'Amount', 'Merchant', 'TransactionType', 'Location']])\n"
   ]
  },
  {
   "cell_type": "code",
   "execution_count": null,
   "metadata": {},
   "outputs": [],
   "source": []
  }
 ],
 "metadata": {
  "kernelspec": {
   "display_name": "DA",
   "language": "python",
   "name": "python3"
  },
  "language_info": {
   "codemirror_mode": {
    "name": "ipython",
    "version": 3
   },
   "file_extension": ".py",
   "mimetype": "text/x-python",
   "name": "python",
   "nbconvert_exporter": "python",
   "pygments_lexer": "ipython3",
   "version": "3.11.5"
  }
 },
 "nbformat": 4,
 "nbformat_minor": 2
}
